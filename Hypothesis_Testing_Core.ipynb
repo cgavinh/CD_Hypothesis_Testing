{
 "cells": [
  {
   "cell_type": "markdown",
   "id": "f69ab925-510a-42cd-90b3-c95fe449cdaf",
   "metadata": {},
   "source": [
    "# Hypothesis Testing (Core)\n",
    "- Coire Gavin-Hanner\n",
    "- 10/6/22"
   ]
  },
  {
   "cell_type": "markdown",
   "id": "a94283e8-1034-41bc-80e7-916a3680a94f",
   "metadata": {
    "jp-MarkdownHeadingCollapsed": true,
    "tags": []
   },
   "source": [
    "# Task:\n",
    "Using the provided dataset, answer the following questions:\n",
    "- Q1. Do smokers have higher insurance charges than non-smokers? (2-sample T-test?)\n",
    "- Q2. Are men more likely to smoke than women? (chi-squared?)\n",
    "- Q3. Do different regions have different charges, on average? (ANOVA?)\n",
    "\n",
    "For each question, make sure to:\n",
    "\n",
    "-   State your Null Hypothesis and Alternative Hypothesis\n",
    "-   Select the correct test according to the data type and number of samples\n",
    "-   Test the assumptions of your selected test.\n",
    "-   Execute the selected test, or the alternative test (if you do not meet the assumptions)\n",
    "-   Interpret your p-value and reject or fail to reject your null hypothesis \n",
    "-   Show a supporting visualization that helps display the result"
   ]
  },
  {
   "cell_type": "markdown",
   "id": "fa61fad9-0d1c-49a1-bf26-da03ddd6ec67",
   "metadata": {},
   "source": [
    "# Imports and Definitions"
   ]
  },
  {
   "cell_type": "code",
   "execution_count": 65,
   "id": "11187d5e-1fd1-4681-87f0-4a5d654a483c",
   "metadata": {},
   "outputs": [],
   "source": [
    "import numpy as np\n",
    "import pandas as pd\n",
    "import scipy.stats as stats\n",
    "import matplotlib.pyplot as plt\n",
    "import seaborn as sns"
   ]
  },
  {
   "cell_type": "code",
   "execution_count": 12,
   "id": "2a80bd8d-4090-4963-9491-afdefbe515d7",
   "metadata": {},
   "outputs": [],
   "source": [
    "def count_outliers(data, z=3):\n",
    "    zscores = stats.zscore(data)\n",
    "    outliers = abs(zscores)>z\n",
    "    return np.sum(outliers)"
   ]
  },
  {
   "cell_type": "code",
   "execution_count": 34,
   "id": "a8425d16-c6fc-4506-9b56-ecd4df6bc975",
   "metadata": {},
   "outputs": [],
   "source": [
    "def remove_outliers(data, z=3):\n",
    "    zscores = stats.zscore(data)\n",
    "    outliers = abs(zscores)<z\n",
    "    return data.loc[outliers.values,:]"
   ]
  },
  {
   "cell_type": "markdown",
   "id": "ed8dd474-13aa-42d2-900c-8d9d3ae17156",
   "metadata": {},
   "source": [
    "# Source Data"
   ]
  },
  {
   "cell_type": "code",
   "execution_count": 2,
   "id": "b57eb8ed-134e-4785-9e3e-a6b7fe5382d2",
   "metadata": {},
   "outputs": [],
   "source": [
    "df = pd.read_csv('Data/insurance - insurance.csv')"
   ]
  },
  {
   "cell_type": "code",
   "execution_count": 8,
   "id": "a752d450-7d18-437e-a48f-09db3b0720f9",
   "metadata": {},
   "outputs": [
    {
     "data": {
      "text/html": [
       "<div>\n",
       "<style scoped>\n",
       "    .dataframe tbody tr th:only-of-type {\n",
       "        vertical-align: middle;\n",
       "    }\n",
       "\n",
       "    .dataframe tbody tr th {\n",
       "        vertical-align: top;\n",
       "    }\n",
       "\n",
       "    .dataframe thead th {\n",
       "        text-align: right;\n",
       "    }\n",
       "</style>\n",
       "<table border=\"1\" class=\"dataframe\">\n",
       "  <thead>\n",
       "    <tr style=\"text-align: right;\">\n",
       "      <th></th>\n",
       "      <th>age</th>\n",
       "      <th>sex</th>\n",
       "      <th>bmi</th>\n",
       "      <th>children</th>\n",
       "      <th>smoker</th>\n",
       "      <th>region</th>\n",
       "      <th>charges</th>\n",
       "    </tr>\n",
       "  </thead>\n",
       "  <tbody>\n",
       "    <tr>\n",
       "      <th>0</th>\n",
       "      <td>19</td>\n",
       "      <td>female</td>\n",
       "      <td>27.900</td>\n",
       "      <td>0</td>\n",
       "      <td>yes</td>\n",
       "      <td>southwest</td>\n",
       "      <td>16884.92400</td>\n",
       "    </tr>\n",
       "    <tr>\n",
       "      <th>1</th>\n",
       "      <td>18</td>\n",
       "      <td>male</td>\n",
       "      <td>33.770</td>\n",
       "      <td>1</td>\n",
       "      <td>no</td>\n",
       "      <td>southeast</td>\n",
       "      <td>1725.55230</td>\n",
       "    </tr>\n",
       "    <tr>\n",
       "      <th>2</th>\n",
       "      <td>28</td>\n",
       "      <td>male</td>\n",
       "      <td>33.000</td>\n",
       "      <td>3</td>\n",
       "      <td>no</td>\n",
       "      <td>southeast</td>\n",
       "      <td>4449.46200</td>\n",
       "    </tr>\n",
       "    <tr>\n",
       "      <th>3</th>\n",
       "      <td>33</td>\n",
       "      <td>male</td>\n",
       "      <td>22.705</td>\n",
       "      <td>0</td>\n",
       "      <td>no</td>\n",
       "      <td>northwest</td>\n",
       "      <td>21984.47061</td>\n",
       "    </tr>\n",
       "    <tr>\n",
       "      <th>4</th>\n",
       "      <td>32</td>\n",
       "      <td>male</td>\n",
       "      <td>28.880</td>\n",
       "      <td>0</td>\n",
       "      <td>no</td>\n",
       "      <td>northwest</td>\n",
       "      <td>3866.85520</td>\n",
       "    </tr>\n",
       "  </tbody>\n",
       "</table>\n",
       "</div>"
      ],
      "text/plain": [
       "   age     sex     bmi  children smoker     region      charges\n",
       "0   19  female  27.900         0    yes  southwest  16884.92400\n",
       "1   18    male  33.770         1     no  southeast   1725.55230\n",
       "2   28    male  33.000         3     no  southeast   4449.46200\n",
       "3   33    male  22.705         0     no  northwest  21984.47061\n",
       "4   32    male  28.880         0     no  northwest   3866.85520"
      ]
     },
     "execution_count": 8,
     "metadata": {},
     "output_type": "execute_result"
    }
   ],
   "source": [
    "df.head(5)"
   ]
  },
  {
   "cell_type": "markdown",
   "id": "c28d42c1-a144-4d05-90e9-6545bf6c8f1c",
   "metadata": {
    "tags": []
   },
   "source": [
    "# Q1. Do smokers have higher insurance charges than non-smokers?\n",
    "- Null Hypothesis: There is no difference between insurance charges of smokers and non-smokers.\n",
    "- Alt. Hypothesis: Smokers have higher insurance charges than non-smokers\n",
    "- Test\n",
    "    - 2 samples of numerical data\n",
    "    - Independent T-test (if assumptions are met)\n",
    "- Assumptions\n",
    "    - No significant outliers\n",
    "    - Normality\n",
    "    - Equal Variance"
   ]
  },
  {
   "cell_type": "markdown",
   "id": "a57f5815-3053-4e92-94de-fc10ab664073",
   "metadata": {},
   "source": [
    "## Testing Data"
   ]
  },
  {
   "cell_type": "code",
   "execution_count": 20,
   "id": "3821913b-4d39-44a1-9b5e-3e0acc2c92f9",
   "metadata": {},
   "outputs": [],
   "source": [
    "smokers = df.loc[df['smoker']=='yes',['charges']]"
   ]
  },
  {
   "cell_type": "code",
   "execution_count": 21,
   "id": "1f43a769-703f-4830-9694-4ba43cd69957",
   "metadata": {},
   "outputs": [
    {
     "data": {
      "text/plain": [
       "pandas.core.frame.DataFrame"
      ]
     },
     "execution_count": 21,
     "metadata": {},
     "output_type": "execute_result"
    }
   ],
   "source": [
    "type(smokers)"
   ]
  },
  {
   "cell_type": "code",
   "execution_count": 22,
   "id": "042433fe-414f-498f-9192-96941f20c5b0",
   "metadata": {},
   "outputs": [],
   "source": [
    "n_smokers = df.loc[df['smoker']=='no',['charges']]"
   ]
  },
  {
   "cell_type": "markdown",
   "id": "b6ecdd56-0f30-4f93-b75b-689ed7bf64d3",
   "metadata": {},
   "source": [
    "## Test Assumptions"
   ]
  },
  {
   "cell_type": "markdown",
   "id": "a9692a81-25a4-49af-8e13-6112775c5cad",
   "metadata": {},
   "source": [
    "### Outliers"
   ]
  },
  {
   "cell_type": "code",
   "execution_count": 13,
   "id": "407ab522-c8f6-476e-9b70-2865e4f7ec1c",
   "metadata": {},
   "outputs": [
    {
     "data": {
      "text/plain": [
       "0"
      ]
     },
     "execution_count": 13,
     "metadata": {},
     "output_type": "execute_result"
    }
   ],
   "source": [
    "# Outliers\n",
    "count_outliers(smokers)"
   ]
  },
  {
   "cell_type": "code",
   "execution_count": 14,
   "id": "1799b1e0-b90d-4d04-adba-675b807ec00b",
   "metadata": {},
   "outputs": [
    {
     "data": {
      "text/plain": [
       "24"
      ]
     },
     "execution_count": 14,
     "metadata": {},
     "output_type": "execute_result"
    }
   ],
   "source": [
    "count_outliers(n_smokers)"
   ]
  },
  {
   "cell_type": "code",
   "execution_count": 52,
   "id": "3e746219-5952-4267-a4ed-e4027473fe91",
   "metadata": {},
   "outputs": [],
   "source": [
    "n_smokers_out = remove_outliers(n_smokers)"
   ]
  },
  {
   "cell_type": "markdown",
   "id": "3a65106b-0510-4f09-aaa6-4d579cdb36ea",
   "metadata": {
    "tags": []
   },
   "source": [
    "### Normality"
   ]
  },
  {
   "cell_type": "code",
   "execution_count": 58,
   "id": "2cb7e3fd-1cca-468c-b8d0-b4685d3b0c64",
   "metadata": {},
   "outputs": [
    {
     "data": {
      "text/plain": [
       "274"
      ]
     },
     "execution_count": 58,
     "metadata": {},
     "output_type": "execute_result"
    }
   ],
   "source": [
    "len(smokers['charges'])"
   ]
  },
  {
   "cell_type": "code",
   "execution_count": 59,
   "id": "043ca67d-9718-4894-bcc3-2ba1ce122692",
   "metadata": {},
   "outputs": [
    {
     "data": {
      "text/plain": [
       "1064"
      ]
     },
     "execution_count": 59,
     "metadata": {},
     "output_type": "execute_result"
    }
   ],
   "source": [
    "len(n_smokers['charges'])"
   ]
  },
  {
   "cell_type": "code",
   "execution_count": 54,
   "id": "54f82595-59e9-479a-b618-ebe97a1ed1fd",
   "metadata": {},
   "outputs": [
    {
     "data": {
      "text/plain": [
       "5.564930630036463e-14"
      ]
     },
     "execution_count": 54,
     "metadata": {},
     "output_type": "execute_result"
    }
   ],
   "source": [
    "stats.normaltest(smokers['charges']).pvalue"
   ]
  },
  {
   "cell_type": "code",
   "execution_count": 57,
   "id": "021908e0-22d3-45ff-9633-e4687a3c2d58",
   "metadata": {},
   "outputs": [
    {
     "data": {
      "text/plain": [
       "2.6945416315543976e-36"
      ]
     },
     "execution_count": 57,
     "metadata": {},
     "output_type": "execute_result"
    }
   ],
   "source": [
    "stats.normaltest(n_smokers_out['charges']).pvalue"
   ]
  },
  {
   "cell_type": "markdown",
   "id": "18adda68-3536-4762-be33-f45206928bb4",
   "metadata": {},
   "source": [
    "neither samples are distributed normally, but are large enough to continue with the t-test"
   ]
  },
  {
   "cell_type": "markdown",
   "id": "fda7f42a-50ac-4262-a959-73ba50ccd152",
   "metadata": {},
   "source": [
    "### Equal variance"
   ]
  },
  {
   "cell_type": "code",
   "execution_count": 60,
   "id": "a518cb57-6697-408f-bfdb-a20be6575411",
   "metadata": {},
   "outputs": [
    {
     "data": {
      "text/plain": [
       "LeveneResult(statistic=520.7468821724297, pvalue=2.4247238784347824e-97)"
      ]
     },
     "execution_count": 60,
     "metadata": {},
     "output_type": "execute_result"
    }
   ],
   "source": [
    "var_result = stats.levene(smokers['charges'], n_smokers_out['charges'])\n",
    "var_result"
   ]
  },
  {
   "cell_type": "markdown",
   "id": "84ff29e4-dd4c-41fa-8e4d-fa4c97f90e71",
   "metadata": {},
   "source": [
    " the samples do not have equal variance so we use \"equal_var=False\" when performing the test"
   ]
  },
  {
   "cell_type": "markdown",
   "id": "e0dc9410-ed74-4b2b-918d-5c9c1fe4f97f",
   "metadata": {},
   "source": [
    "## Test"
   ]
  },
  {
   "cell_type": "code",
   "execution_count": 62,
   "id": "a49723e9-1919-474b-9835-15afe8e27984",
   "metadata": {},
   "outputs": [
    {
     "data": {
      "text/plain": [
       "Ttest_indResult(statistic=33.732305987092516, pvalue=1.2876613312937155e-104)"
      ]
     },
     "execution_count": 62,
     "metadata": {},
     "output_type": "execute_result"
    }
   ],
   "source": [
    "smoke_result = stats.ttest_ind(smokers['charges'], n_smokers_out['charges'], equal_var=False, alternative='greater')\n",
    "smoke_result"
   ]
  },
  {
   "cell_type": "markdown",
   "id": "a483e52a-d8b5-4c0e-8807-49b62d7bb259",
   "metadata": {},
   "source": [
    "## Interpretation"
   ]
  },
  {
   "cell_type": "markdown",
   "id": "b2934f99-baa4-4879-bb9f-3a110e0f23fb",
   "metadata": {},
   "source": [
    "Because the p-value of our independent, 2-sample t-test is less than 0.05, we reject the null hypothesis and accept that smokers have higher insurance charges than non-smokers"
   ]
  },
  {
   "cell_type": "markdown",
   "id": "84cb0391-b2bd-46e8-989e-09bf7971bb34",
   "metadata": {},
   "source": [
    "## Visualization"
   ]
  },
  {
   "cell_type": "code",
   "execution_count": 64,
   "id": "f3933327-7eae-48e8-890b-146ffde62af0",
   "metadata": {},
   "outputs": [
    {
     "data": {
      "text/plain": [
       "<matplotlib.legend.Legend at 0x7fa1e80c2220>"
      ]
     },
     "execution_count": 64,
     "metadata": {},
     "output_type": "execute_result"
    },
    {
     "data": {
      "image/png": "[encoded data removed]",
      "text/plain": [
       "<Figure size 640x480 with 1 Axes>"
      ]
     },
     "metadata": {},
     "output_type": "display_data"
    }
   ],
   "source": [
    "fig = plt.figure()\n",
    "ax = plt.axes()\n",
    "\n",
    "ax.hist(smokers['charges'], color='gray', alpha=0.5, label='smokers')\n",
    "ax.hist(n_smokers['charges'], color='green', alpha=0.8, label='non-smokers')\n",
    "\n",
    "plt.legend()"
   ]
  },
  {
   "cell_type": "markdown",
   "id": "3480bfc1-aacb-4e53-ac45-45ada7e1ff27",
   "metadata": {},
   "source": [
    "# Q2. Are men more likely to smoke than women?\n",
    "- Null Hypothesis: Neither men nor women are more likely to smoke than the other. \n",
    "- Alt. Hypothesis: Men are more likely to smoke than women. \n",
    "- Test\n",
    "    - 2 samples of categorical data\n",
    "    - Chi-Squared (if assumptions are met)\n",
    "- Assumptions\n",
    "    - two categorical variables\n",
    "    - outcomes are independent"
   ]
  },
  {
   "cell_type": "markdown",
   "id": "a111b28f-61de-4c4d-bd40-9a6a82c49f6d",
   "metadata": {},
   "source": [
    "## Assumptions"
   ]
  },
  {
   "cell_type": "markdown",
   "id": "91f3434b-60d4-4ae2-b0a9-cc728c66bb17",
   "metadata": {
    "tags": []
   },
   "source": [
    "### 2 categorical variables\n",
    "- sex and smoker status"
   ]
  },
  {
   "cell_type": "markdown",
   "id": "f1c2a5b6-3743-4c50-9ba1-1506bba8e276",
   "metadata": {},
   "source": [
    "### Independent Outcomes\n",
    "- the samples are independent becuase they are different groups of people"
   ]
  },
  {
   "cell_type": "markdown",
   "id": "721c9629-8ba8-44db-8063-ece1ffa476eb",
   "metadata": {},
   "source": [
    "## Test"
   ]
  },
  {
   "cell_type": "code",
   "execution_count": 67,
   "id": "9a5f5047-524b-4a3f-bb81-04e1c9f84d5a",
   "metadata": {},
   "outputs": [
    {
     "data": {
      "text/html": [
       "<div>\n",
       "<style scoped>\n",
       "    .dataframe tbody tr th:only-of-type {\n",
       "        vertical-align: middle;\n",
       "    }\n",
       "\n",
       "    .dataframe tbody tr th {\n",
       "        vertical-align: top;\n",
       "    }\n",
       "\n",
       "    .dataframe thead th {\n",
       "        text-align: right;\n",
       "    }\n",
       "</style>\n",
       "<table border=\"1\" class=\"dataframe\">\n",
       "  <thead>\n",
       "    <tr style=\"text-align: right;\">\n",
       "      <th>smoker</th>\n",
       "      <th>no</th>\n",
       "      <th>yes</th>\n",
       "    </tr>\n",
       "    <tr>\n",
       "      <th>sex</th>\n",
       "      <th></th>\n",
       "      <th></th>\n",
       "    </tr>\n",
       "  </thead>\n",
       "  <tbody>\n",
       "    <tr>\n",
       "      <th>female</th>\n",
       "      <td>547</td>\n",
       "      <td>115</td>\n",
       "    </tr>\n",
       "    <tr>\n",
       "      <th>male</th>\n",
       "      <td>517</td>\n",
       "      <td>159</td>\n",
       "    </tr>\n",
       "  </tbody>\n",
       "</table>\n",
       "</div>"
      ],
      "text/plain": [
       "smoker   no  yes\n",
       "sex             \n",
       "female  547  115\n",
       "male    517  159"
      ]
     },
     "execution_count": 67,
     "metadata": {},
     "output_type": "execute_result"
    }
   ],
   "source": [
    "# calculate the contingency table with pd.cross-tab\n",
    "table = pd.crosstab(df['sex'], df['smoker'])\n",
    "table"
   ]
  },
  {
   "cell_type": "code",
   "execution_count": 69,
   "id": "c94a418c-2fc8-4304-86a5-7dc659343507",
   "metadata": {},
   "outputs": [],
   "source": [
    "mf_smoker_result = stats.chi2_contingency(table)\n",
    "chi2, p, deg_free, expected_vals = mf_smoker_result"
   ]
  },
  {
   "cell_type": "code",
   "execution_count": 70,
   "id": "4e280008-b88f-4574-a9bc-9301c0381b1e",
   "metadata": {},
   "outputs": [
    {
     "name": "stdout",
     "output_type": "stream",
     "text": [
      "0.006548143503580696\n"
     ]
    }
   ],
   "source": [
    "print(p)"
   ]
  },
  {
   "cell_type": "markdown",
   "id": "ed09e83a-a80a-4d04-97b3-2029a512be33",
   "metadata": {},
   "source": [
    "## Interpretation"
   ]
  },
  {
   "cell_type": "markdown",
   "id": "c3d55f73-515d-41e4-971a-5193eb20431c",
   "metadata": {},
   "source": [
    "Because the p value is less than 0.05, we reject the null hypothesis and accept that men are more likely to smoke than women"
   ]
  },
  {
   "cell_type": "markdown",
   "id": "79880c2b-3b4b-4fb8-98b1-d9103c6b5d74",
   "metadata": {},
   "source": [
    "## Visualization"
   ]
  },
  {
   "cell_type": "code",
   "execution_count": 66,
   "id": "c749da69-0191-49cf-a770-093dbdfb0663",
   "metadata": {},
   "outputs": [
    {
     "data": {
      "image/png": "[encoded data removed]",
      "text/plain": [
       "<Figure size 640x480 with 1 Axes>"
      ]
     },
     "metadata": {},
     "output_type": "display_data"
    }
   ],
   "source": [
    "ax = sns.countplot(data=df, x='sex',hue='smoker',)\n",
    "ax.set_title(\"Number of Smokers by Sex\");"
   ]
  },
  {
   "cell_type": "markdown",
   "id": "bea838c0-7ac7-4506-bbee-f2a2e67ca516",
   "metadata": {},
   "source": [
    "# Q3. Do different regions have different charges, on average?\n",
    "- Null Hypothesis: Different regions have the same charges, on average.\n",
    "- Alt. Hypothesis: Different regions have different charges, on average.\n",
    "- Test\n",
    "    - More than 2 samples of numeric data\n",
    "    - One-way ANOVA (if assumptions are met)\n",
    "- Assumptions\n",
    "    - No Outliers\n",
    "    - equal variance\n",
    "    - normality"
   ]
  },
  {
   "cell_type": "markdown",
   "id": "94a292a8-d256-4661-b563-0ccba843b6f3",
   "metadata": {},
   "source": [
    "## Testing Data"
   ]
  },
  {
   "cell_type": "code",
   "execution_count": 71,
   "id": "549ea3ba-a0df-4179-85a7-edb1ccff5452",
   "metadata": {},
   "outputs": [
    {
     "data": {
      "text/plain": [
       "array(['southwest', 'southeast', 'northwest', 'northeast'], dtype=object)"
      ]
     },
     "execution_count": 71,
     "metadata": {},
     "output_type": "execute_result"
    }
   ],
   "source": [
    "df['region'].unique()"
   ]
  },
  {
   "cell_type": "code",
   "execution_count": 84,
   "id": "2ded21fb-a20f-4a4c-88cc-be5d979d7a3c",
   "metadata": {},
   "outputs": [],
   "source": [
    "ne_df = df.loc[df['region']=='northeast',['charges']]\n",
    "nw_df = df.loc[df['region']=='northwest',['charges']]\n",
    "se_df = df.loc[df['region']=='southeast',['charges']]\n",
    "sw_df = df.loc[df['region']=='southwest',['charges']]"
   ]
  },
  {
   "cell_type": "markdown",
   "id": "d3792635-f771-47ae-93c7-7340833efe46",
   "metadata": {},
   "source": [
    "## Assumptions"
   ]
  },
  {
   "cell_type": "markdown",
   "id": "e39918ba-9bd6-490a-8756-6ff2776af820",
   "metadata": {},
   "source": [
    "### No Outliers"
   ]
  },
  {
   "cell_type": "code",
   "execution_count": 85,
   "id": "21854871-4520-472b-b4db-ecec46b160d4",
   "metadata": {},
   "outputs": [
    {
     "data": {
      "text/plain": [
       "4"
      ]
     },
     "execution_count": 85,
     "metadata": {},
     "output_type": "execute_result"
    }
   ],
   "source": [
    "count_outliers(ne_df['charges'])"
   ]
  },
  {
   "cell_type": "code",
   "execution_count": 86,
   "id": "bcc20d60-b94f-4bc1-acfc-ecbb385609be",
   "metadata": {},
   "outputs": [],
   "source": [
    "ne_df = remove_outliers(ne_df)"
   ]
  },
  {
   "cell_type": "code",
   "execution_count": 87,
   "id": "703704ca-8718-4041-8b7e-deefa8e80358",
   "metadata": {},
   "outputs": [
    {
     "data": {
      "text/plain": [
       "7"
      ]
     },
     "execution_count": 87,
     "metadata": {},
     "output_type": "execute_result"
    }
   ],
   "source": [
    "count_outliers(nw_df['charges'])"
   ]
  },
  {
   "cell_type": "code",
   "execution_count": 88,
   "id": "a8f33a68-0242-4a7d-aed8-a672606c140d",
   "metadata": {},
   "outputs": [],
   "source": [
    "nw_df = remove_outliers(nw_df)"
   ]
  },
  {
   "cell_type": "code",
   "execution_count": 89,
   "id": "67459db2-ec0d-48ef-99fc-cd829f5a6716",
   "metadata": {},
   "outputs": [
    {
     "data": {
      "text/plain": [
       "charges    2\n",
       "dtype: int64"
      ]
     },
     "execution_count": 89,
     "metadata": {},
     "output_type": "execute_result"
    }
   ],
   "source": [
    "count_outliers(se_df)"
   ]
  },
  {
   "cell_type": "code",
   "execution_count": 90,
   "id": "0d1b18f4-f952-4245-8df4-b206c5bbf8bb",
   "metadata": {},
   "outputs": [],
   "source": [
    "se_df = remove_outliers(se_df)"
   ]
  },
  {
   "cell_type": "code",
   "execution_count": 91,
   "id": "36e4d4a9-4c91-411c-86eb-e1cf690c11eb",
   "metadata": {},
   "outputs": [
    {
     "data": {
      "text/plain": [
       "charges    8\n",
       "dtype: int64"
      ]
     },
     "execution_count": 91,
     "metadata": {},
     "output_type": "execute_result"
    }
   ],
   "source": [
    "count_outliers(sw_df)"
   ]
  },
  {
   "cell_type": "code",
   "execution_count": 92,
   "id": "ba6b31ef-d18e-45bc-8df9-3057024fea02",
   "metadata": {},
   "outputs": [],
   "source": [
    "sw_df = remove_outliers(sw_df)"
   ]
  },
  {
   "cell_type": "markdown",
   "id": "36749882-bfb9-4ead-ad2c-56a7cfd89d26",
   "metadata": {},
   "source": [
    "### Normality"
   ]
  },
  {
   "cell_type": "code",
   "execution_count": 95,
   "id": "f1295659-cf89-42f7-80e1-4231d2a99a5f",
   "metadata": {},
   "outputs": [
    {
     "data": {
      "text/plain": [
       "3.5578767155624347e-17"
      ]
     },
     "execution_count": 95,
     "metadata": {},
     "output_type": "execute_result"
    }
   ],
   "source": [
    "stats.normaltest(ne_df['charges']).pvalue"
   ]
  },
  {
   "cell_type": "code",
   "execution_count": 96,
   "id": "689a76e9-b1e3-49b7-8275-25479d270c34",
   "metadata": {},
   "outputs": [
    {
     "data": {
      "text/plain": [
       "320"
      ]
     },
     "execution_count": 96,
     "metadata": {},
     "output_type": "execute_result"
    }
   ],
   "source": [
    "len(ne_df)"
   ]
  },
  {
   "cell_type": "code",
   "execution_count": 97,
   "id": "49a28834-4318-42d1-84cd-f46c744de4b9",
   "metadata": {},
   "outputs": [
    {
     "data": {
      "text/plain": [
       "2.9405433782452325e-19"
      ]
     },
     "execution_count": 97,
     "metadata": {},
     "output_type": "execute_result"
    }
   ],
   "source": [
    "stats.normaltest(nw_df['charges']).pvalue"
   ]
  },
  {
   "cell_type": "code",
   "execution_count": 98,
   "id": "d7de8aa8-b1ad-4e72-bf64-346f3963e5aa",
   "metadata": {},
   "outputs": [
    {
     "data": {
      "text/plain": [
       "318"
      ]
     },
     "execution_count": 98,
     "metadata": {},
     "output_type": "execute_result"
    }
   ],
   "source": [
    "len(nw_df)"
   ]
  },
  {
   "cell_type": "code",
   "execution_count": 99,
   "id": "94779f04-aa34-40d1-9236-a8d59988b051",
   "metadata": {},
   "outputs": [
    {
     "data": {
      "text/plain": [
       "1.9369900501741734e-13"
      ]
     },
     "execution_count": 99,
     "metadata": {},
     "output_type": "execute_result"
    }
   ],
   "source": [
    "stats.normaltest(se_df['charges']).pvalue"
   ]
  },
  {
   "cell_type": "code",
   "execution_count": 100,
   "id": "77be70de-d0cc-4860-99fd-809d61e07b4b",
   "metadata": {},
   "outputs": [
    {
     "data": {
      "text/plain": [
       "362"
      ]
     },
     "execution_count": 100,
     "metadata": {},
     "output_type": "execute_result"
    }
   ],
   "source": [
    "len(se_df)"
   ]
  },
  {
   "cell_type": "code",
   "execution_count": 101,
   "id": "57eb771e-383b-4b2e-8827-96a3f05ee7d0",
   "metadata": {},
   "outputs": [
    {
     "data": {
      "text/plain": [
       "7.728611243124505e-22"
      ]
     },
     "execution_count": 101,
     "metadata": {},
     "output_type": "execute_result"
    }
   ],
   "source": [
    "stats.normaltest(sw_df['charges']).pvalue"
   ]
  },
  {
   "cell_type": "code",
   "execution_count": 102,
   "id": "36a7e54f-e286-4f46-93f6-65fc3d7e1b84",
   "metadata": {},
   "outputs": [
    {
     "data": {
      "text/plain": [
       "317"
      ]
     },
     "execution_count": 102,
     "metadata": {},
     "output_type": "execute_result"
    }
   ],
   "source": [
    "len(sw_df)"
   ]
  },
  {
   "cell_type": "markdown",
   "id": "ecb57803-eec7-49d5-9939-9b20020cd417",
   "metadata": {},
   "source": [
    "None are normal, but all are large enough to proceed"
   ]
  },
  {
   "cell_type": "markdown",
   "id": "245f1e78-b6ef-4a7e-bd53-4fc1004956be",
   "metadata": {},
   "source": [
    "### Variance"
   ]
  },
  {
   "cell_type": "code",
   "execution_count": 103,
   "id": "9260dfa2-248f-470c-b066-994c60e5545d",
   "metadata": {},
   "outputs": [
    {
     "data": {
      "text/plain": [
       "LeveneResult(statistic=9.518349004554441, pvalue=3.2035503711783993e-06)"
      ]
     },
     "execution_count": 103,
     "metadata": {},
     "output_type": "execute_result"
    }
   ],
   "source": [
    "stats.levene(ne_df['charges'], nw_df['charges'], se_df['charges'], sw_df['charges'])"
   ]
  },
  {
   "cell_type": "markdown",
   "id": "8524ccce-8530-4595-acd2-45c471370328",
   "metadata": {},
   "source": [
    " we do not have equal variance, so I will use the nonparamtric equivalent, the Kruskal-Wallis test"
   ]
  },
  {
   "cell_type": "markdown",
   "id": "aa79eadb-078f-4837-8723-4ab526d71e6b",
   "metadata": {},
   "source": [
    "## Kruskal-Wallis Test"
   ]
  },
  {
   "cell_type": "code",
   "execution_count": 104,
   "id": "bd3d0aec-aae0-4d1f-bdd4-3c676d5f99a1",
   "metadata": {},
   "outputs": [
    {
     "data": {
      "text/plain": [
       "KruskalResult(statistic=6.914045702545643, pvalue=0.07468847911322242)"
      ]
     },
     "execution_count": 104,
     "metadata": {},
     "output_type": "execute_result"
    }
   ],
   "source": [
    "stats.kruskal(ne_df['charges'], nw_df['charges'], se_df['charges'], sw_df['charges'])"
   ]
  },
  {
   "cell_type": "markdown",
   "id": "fd4617ad-1a61-4814-847f-d9fe37a1bec3",
   "metadata": {},
   "source": [
    "## Interpretation"
   ]
  },
  {
   "cell_type": "markdown",
   "id": "15bcc5fc-ca53-43f7-990d-ea1e0e65b179",
   "metadata": {},
   "source": [
    "Because the p-value is greater that 0.05, we fail to reject the null hypothesis there is no difference between the insurance charges of different regions"
   ]
  },
  {
   "cell_type": "markdown",
   "id": "9a9fab49-622f-4652-9fb0-49172c508537",
   "metadata": {},
   "source": [
    "## Visualization"
   ]
  },
  {
   "cell_type": "code",
   "execution_count": 93,
   "id": "d5a5e94e-1c26-46a7-8b12-a35f455212ef",
   "metadata": {},
   "outputs": [
    {
     "data": {
      "image/png": "[encoded data removed]",
      "text/plain": [
       "<Figure size 640x480 with 1 Axes>"
      ]
     },
     "metadata": {},
     "output_type": "display_data"
    }
   ],
   "source": [
    "sns.barplot(data=df, x='region',y='charges');"
   ]
  },
  {
   "cell_type": "code",
   "execution_count": null,
   "id": "bd9ba21a-f7cb-4109-b7a7-0ef4dd8ad8ef",
   "metadata": {},
   "outputs": [],
   "source": []
  }
 ],
 "metadata": {
  "kernelspec": {
   "display_name": "Python [conda env:dojo-env] *",
   "language": "python",
   "name": "conda-env-dojo-env-py"
  },
  "language_info": {
   "codemirror_mode": {
    "name": "ipython",
    "version": 3
   },
   "file_extension": ".py",
   "mimetype": "text/x-python",
   "name": "python",
   "nbconvert_exporter": "python",
   "pygments_lexer": "ipython3",
   "version": "3.8.13"
  }
 },
 "nbformat": 4,
 "nbformat_minor": 5
}
